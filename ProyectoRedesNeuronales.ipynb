{
  "nbformat": 4,
  "nbformat_minor": 0,
  "metadata": {
    "kernelspec": {
      "display_name": "Python 3",
      "language": "python",
      "name": "python3"
    },
    "language_info": {
      "codemirror_mode": {
        "name": "ipython",
        "version": 3
      },
      "file_extension": ".py",
      "mimetype": "text/x-python",
      "name": "python",
      "nbconvert_exporter": "python",
      "pygments_lexer": "ipython3",
      "version": "3.7.5rc1"
    },
    "varInspector": {
      "cols": {
        "lenName": 16,
        "lenType": 16,
        "lenVar": 40
      },
      "kernels_config": {
        "python": {
          "delete_cmd_postfix": "",
          "delete_cmd_prefix": "del ",
          "library": "var_list.py",
          "varRefreshCmd": "print(var_dic_list())"
        },
        "r": {
          "delete_cmd_postfix": ") ",
          "delete_cmd_prefix": "rm(",
          "library": "var_list.r",
          "varRefreshCmd": "cat(var_dic_list()) "
        }
      },
      "types_to_exclude": [
        "module",
        "function",
        "builtin_function_or_method",
        "instance",
        "_Feature"
      ],
      "window_display": false
    },
    "colab": {
      "name": "Proyecto.ipynb",
      "provenance": [],
      "include_colab_link": true
    }
  },
  "cells": [
    {
      "cell_type": "markdown",
      "metadata": {
        "id": "view-in-github",
        "colab_type": "text"
      },
      "source": [
        "<a href=\"https://colab.research.google.com/github/seradiazpin/NeuralNetworksUnal2019/blob/master/ProyectoRedesNeuronales.ipynb\" target=\"_parent\"><img src=\"https://colab.research.google.com/assets/colab-badge.svg\" alt=\"Open In Colab\"/></a>"
      ]
    },
    {
      "cell_type": "markdown",
      "metadata": {
        "id": "JRaNeU80SnLn",
        "colab_type": "text"
      },
      "source": [
        "# Normalidad en equilibrio  vs Equilibrio alterado"
      ]
    },
    {
      "cell_type": "markdown",
      "metadata": {
        "id": "nux1mgYISnLo",
        "colab_type": "text"
      },
      "source": [
        "## Importamos lo necesario\n",
        "#### Instala qgrid --> !pip install qgrid\n"
      ]
    },
    {
      "cell_type": "code",
      "metadata": {
        "ExecuteTime": {
          "end_time": "2017-12-30T09:13:38.519159Z",
          "start_time": "2017-12-30T09:13:38.271235Z"
        },
        "id": "HNJKp_t8SnLp",
        "colab_type": "code",
        "colab": {}
      },
      "source": [
        "import numpy as np\n",
        "import matplotlib\n",
        "import matplotlib.pyplot as plt\n",
        "import matplotlib.gridspec as gridspec\n",
        "import glob\n",
        "import pandas as pd\n",
        "import scipy.signal as ss\n",
        "import scipy.stats as st\n",
        "import math\n",
        "import warnings\n",
        "import sys, os\n",
        "\n",
        "#Configuraciones de MATPLOTLIB\n",
        "%matplotlib inline\n",
        "matplotlib.rc('legend', numpoints=1, fontsize=16)\n",
        "\n",
        "#No mostrar warnings\n",
        "warnings.filterwarnings(\"ignore\")\n",
        "\n",
        "#Precision en PANDAS\n",
        "pd.set_option('precision', 4)"
      ],
      "execution_count": 0,
      "outputs": []
    },
    {
      "cell_type": "markdown",
      "metadata": {
        "id": "wbqK41oVSnLr",
        "colab_type": "text"
      },
      "source": [
        "## Carga tabla con descriptores calculados\n",
        "#### Se llama --> dataset.txt"
      ]
    },
    {
      "cell_type": "code",
      "metadata": {
        "ExecuteTime": {
          "end_time": "2017-12-30T09:14:00.488898Z",
          "start_time": "2017-12-30T09:14:00.458627Z"
        },
        "id": "20jTbQNvSnLr",
        "colab_type": "code",
        "outputId": "a069d184-3616-4869-c817-1787132dd2d6",
        "colab": {}
      },
      "source": [
        "pd.set_option('precision', 3)\n",
        "path=r'./../'\n",
        "fname = os.path.join(path, 'dataset.txt')\n",
        "BDSinfo = pd.read_csv(fname, sep='\\t', header=0, index_col=None, engine='c', encoding='utf-8')\n",
        "print(\"Informacion desde los %s trials cargados (un total de %s sujectos).\"\n",
        "      %(len(BDSinfo), len(pd.unique(BDSinfo.Subject))))\n",
        "print(\"%s sujetos, 4 condiciones, 3 repeticiones cargados (%s filas, %s columnas).\"\n",
        "      %(len(pd.unique(BDSinfo.Subject)), BDSinfo.shape[0], BDSinfo.shape[1]))\n",
        "print(\"\\n\\nColunmas:\")\n",
        "BDSinfo.keys()\n",
        "#En la clase el valor 0 significa 'Equilibrio sano' y el 1 significa 'Equilibrio alterado'"
      ],
      "execution_count": 0,
      "outputs": [
        {
          "output_type": "stream",
          "text": [
            "Informacion desde los 1930 trials cargados (un total de 163 sujectos).\n",
            "163 sujetos, 4 condiciones, 3 repeticiones cargados (1930 filas, 37 columnas).\n",
            "\n",
            "\n",
            "Colunmas:\n"
          ],
          "name": "stdout"
        },
        {
          "output_type": "execute_result",
          "data": {
            "text/plain": [
              "Index(['Trial', 'Subject', 'Vision', 'Surface', 'Age', 'BMI', 'Best_T',\n",
              "       'COPmean_ap', 'COPmean_ml', 'COPsd_ap', 'COPsd_ml', 'COPrms_ap',\n",
              "       'COPrms_ml', 'COPrange_ap', 'COPrange_ml', 'COPpath_ap', 'COPpath_ml',\n",
              "       'COPvelm_ap', 'COPvelm_ml', 'COPvelm_r', 'COPvelnorm', 'COParea',\n",
              "       'COPaxesL', 'COPangle', 'COPfre_p50_ap', 'COPfre_p50_ml', 'COPfrem_ap',\n",
              "       'COPfrem_ml', 'COPfremax_ap', 'COPfremax_ml', 'COPpow_ap', 'COPpow_ml',\n",
              "       'COPhurts_ap', 'COPhurts_ml', 'COPdfa_ap', 'COPdfa_ml', 'Clase'],\n",
              "      dtype='object')"
            ]
          },
          "metadata": {
            "tags": []
          },
          "execution_count": 2
        }
      ]
    },
    {
      "cell_type": "code",
      "metadata": {
        "ExecuteTime": {
          "end_time": "2017-12-30T09:14:00.488898Z",
          "start_time": "2017-12-30T09:14:00.458627Z"
        },
        "id": "WngK04QKSnLu",
        "colab_type": "code",
        "outputId": "126fa63c-65c8-41a5-8aa0-1affc4692d4c",
        "colab": {}
      },
      "source": [
        "BDSinfo.head(5)"
      ],
      "execution_count": 0,
      "outputs": [
        {
          "output_type": "execute_result",
          "data": {
            "text/html": [
              "<div>\n",
              "<style scoped>\n",
              "    .dataframe tbody tr th:only-of-type {\n",
              "        vertical-align: middle;\n",
              "    }\n",
              "\n",
              "    .dataframe tbody tr th {\n",
              "        vertical-align: top;\n",
              "    }\n",
              "\n",
              "    .dataframe thead th {\n",
              "        text-align: right;\n",
              "    }\n",
              "</style>\n",
              "<table border=\"1\" class=\"dataframe\">\n",
              "  <thead>\n",
              "    <tr style=\"text-align: right;\">\n",
              "      <th></th>\n",
              "      <th>Trial</th>\n",
              "      <th>Subject</th>\n",
              "      <th>Vision</th>\n",
              "      <th>Surface</th>\n",
              "      <th>Age</th>\n",
              "      <th>BMI</th>\n",
              "      <th>Best_T</th>\n",
              "      <th>COPmean_ap</th>\n",
              "      <th>COPmean_ml</th>\n",
              "      <th>COPsd_ap</th>\n",
              "      <th>...</th>\n",
              "      <th>COPfrem_ml</th>\n",
              "      <th>COPfremax_ap</th>\n",
              "      <th>COPfremax_ml</th>\n",
              "      <th>COPpow_ap</th>\n",
              "      <th>COPpow_ml</th>\n",
              "      <th>COPhurts_ap</th>\n",
              "      <th>COPhurts_ml</th>\n",
              "      <th>COPdfa_ap</th>\n",
              "      <th>COPdfa_ml</th>\n",
              "      <th>Clase</th>\n",
              "    </tr>\n",
              "  </thead>\n",
              "  <tbody>\n",
              "    <tr>\n",
              "      <th>0</th>\n",
              "      <td>BDS00001</td>\n",
              "      <td>1</td>\n",
              "      <td>Open</td>\n",
              "      <td>Firm</td>\n",
              "      <td>33.0</td>\n",
              "      <td>21.849</td>\n",
              "      <td>25</td>\n",
              "      <td>-2.995e-17</td>\n",
              "      <td>3.041e-17</td>\n",
              "      <td>0.285</td>\n",
              "      <td>...</td>\n",
              "      <td>0.190</td>\n",
              "      <td>0.100</td>\n",
              "      <td>0.033</td>\n",
              "      <td>0.068</td>\n",
              "      <td>0.010</td>\n",
              "      <td>0.920</td>\n",
              "      <td>0.811</td>\n",
              "      <td>1.431</td>\n",
              "      <td>1.508</td>\n",
              "      <td>0</td>\n",
              "    </tr>\n",
              "    <tr>\n",
              "      <th>1</th>\n",
              "      <td>BDS00002</td>\n",
              "      <td>1</td>\n",
              "      <td>Open</td>\n",
              "      <td>Firm</td>\n",
              "      <td>33.0</td>\n",
              "      <td>21.849</td>\n",
              "      <td>25</td>\n",
              "      <td>-4.718e-18</td>\n",
              "      <td>6.472e-17</td>\n",
              "      <td>0.370</td>\n",
              "      <td>...</td>\n",
              "      <td>0.155</td>\n",
              "      <td>0.033</td>\n",
              "      <td>0.033</td>\n",
              "      <td>0.162</td>\n",
              "      <td>0.018</td>\n",
              "      <td>0.905</td>\n",
              "      <td>0.838</td>\n",
              "      <td>1.447</td>\n",
              "      <td>1.597</td>\n",
              "      <td>0</td>\n",
              "    </tr>\n",
              "    <tr>\n",
              "      <th>2</th>\n",
              "      <td>BDS00003</td>\n",
              "      <td>1</td>\n",
              "      <td>Open</td>\n",
              "      <td>Firm</td>\n",
              "      <td>33.0</td>\n",
              "      <td>21.849</td>\n",
              "      <td>25</td>\n",
              "      <td>5.075e-17</td>\n",
              "      <td>1.109e-16</td>\n",
              "      <td>0.206</td>\n",
              "      <td>...</td>\n",
              "      <td>0.153</td>\n",
              "      <td>0.067</td>\n",
              "      <td>0.033</td>\n",
              "      <td>0.039</td>\n",
              "      <td>0.009</td>\n",
              "      <td>0.908</td>\n",
              "      <td>0.816</td>\n",
              "      <td>1.354</td>\n",
              "      <td>1.506</td>\n",
              "      <td>0</td>\n",
              "    </tr>\n",
              "    <tr>\n",
              "      <th>3</th>\n",
              "      <td>BDS00004</td>\n",
              "      <td>1</td>\n",
              "      <td>Closed</td>\n",
              "      <td>Firm</td>\n",
              "      <td>33.0</td>\n",
              "      <td>21.849</td>\n",
              "      <td>25</td>\n",
              "      <td>-1.658e-17</td>\n",
              "      <td>3.828e-17</td>\n",
              "      <td>0.181</td>\n",
              "      <td>...</td>\n",
              "      <td>0.208</td>\n",
              "      <td>0.033</td>\n",
              "      <td>0.033</td>\n",
              "      <td>0.030</td>\n",
              "      <td>0.008</td>\n",
              "      <td>0.910</td>\n",
              "      <td>0.827</td>\n",
              "      <td>1.312</td>\n",
              "      <td>1.547</td>\n",
              "      <td>0</td>\n",
              "    </tr>\n",
              "    <tr>\n",
              "      <th>4</th>\n",
              "      <td>BDS00005</td>\n",
              "      <td>1</td>\n",
              "      <td>Closed</td>\n",
              "      <td>Firm</td>\n",
              "      <td>33.0</td>\n",
              "      <td>21.849</td>\n",
              "      <td>25</td>\n",
              "      <td>-6.560e-18</td>\n",
              "      <td>-1.539e-16</td>\n",
              "      <td>0.380</td>\n",
              "      <td>...</td>\n",
              "      <td>0.123</td>\n",
              "      <td>0.067</td>\n",
              "      <td>0.033</td>\n",
              "      <td>0.092</td>\n",
              "      <td>0.017</td>\n",
              "      <td>0.903</td>\n",
              "      <td>0.823</td>\n",
              "      <td>1.473</td>\n",
              "      <td>1.608</td>\n",
              "      <td>0</td>\n",
              "    </tr>\n",
              "  </tbody>\n",
              "</table>\n",
              "<p>5 rows × 37 columns</p>\n",
              "</div>"
            ],
            "text/plain": [
              "      Trial  Subject  Vision Surface   Age     BMI  Best_T  COPmean_ap  \\\n",
              "0  BDS00001        1    Open    Firm  33.0  21.849      25  -2.995e-17   \n",
              "1  BDS00002        1    Open    Firm  33.0  21.849      25  -4.718e-18   \n",
              "2  BDS00003        1    Open    Firm  33.0  21.849      25   5.075e-17   \n",
              "3  BDS00004        1  Closed    Firm  33.0  21.849      25  -1.658e-17   \n",
              "4  BDS00005        1  Closed    Firm  33.0  21.849      25  -6.560e-18   \n",
              "\n",
              "   COPmean_ml  COPsd_ap  ...  COPfrem_ml  COPfremax_ap  COPfremax_ml  \\\n",
              "0   3.041e-17     0.285  ...       0.190         0.100         0.033   \n",
              "1   6.472e-17     0.370  ...       0.155         0.033         0.033   \n",
              "2   1.109e-16     0.206  ...       0.153         0.067         0.033   \n",
              "3   3.828e-17     0.181  ...       0.208         0.033         0.033   \n",
              "4  -1.539e-16     0.380  ...       0.123         0.067         0.033   \n",
              "\n",
              "   COPpow_ap  COPpow_ml  COPhurts_ap  COPhurts_ml  COPdfa_ap  COPdfa_ml  Clase  \n",
              "0      0.068      0.010        0.920        0.811      1.431      1.508      0  \n",
              "1      0.162      0.018        0.905        0.838      1.447      1.597      0  \n",
              "2      0.039      0.009        0.908        0.816      1.354      1.506      0  \n",
              "3      0.030      0.008        0.910        0.827      1.312      1.547      0  \n",
              "4      0.092      0.017        0.903        0.823      1.473      1.608      0  \n",
              "\n",
              "[5 rows x 37 columns]"
            ]
          },
          "metadata": {
            "tags": []
          },
          "execution_count": 3
        }
      ]
    },
    {
      "cell_type": "markdown",
      "metadata": {
        "id": "0K_vBu0aSnLv",
        "colab_type": "text"
      },
      "source": [
        "## Individuos con enfermedades que afectan el equilibrio"
      ]
    },
    {
      "cell_type": "code",
      "metadata": {
        "id": "460f1RIxSnLw",
        "colab_type": "code",
        "outputId": "c4de2ad6-d9c9-4b1d-f402-4562fc5ad5b0",
        "colab": {}
      },
      "source": [
        "data = BDSinfo[BDSinfo['Clase']==1]\n",
        "print('%s subjetos.' %len(pd.unique(data.Subject)))\n",
        "print(\"Informacion de %s sujetos por 4 condiciones cargados (%s filas, %s columnas).\"\n",
        "      %(len(pd.unique(data.Subject)), data.shape[0], data.shape[1]))\n",
        "data.head(5)"
      ],
      "execution_count": 0,
      "outputs": [
        {
          "output_type": "stream",
          "text": [
            "49 subjetos.\n",
            "Informacion de 49 sujetos por 4 condiciones cargados (562 filas, 37 columnas).\n"
          ],
          "name": "stdout"
        },
        {
          "output_type": "execute_result",
          "data": {
            "text/html": [
              "<div>\n",
              "<style scoped>\n",
              "    .dataframe tbody tr th:only-of-type {\n",
              "        vertical-align: middle;\n",
              "    }\n",
              "\n",
              "    .dataframe tbody tr th {\n",
              "        vertical-align: top;\n",
              "    }\n",
              "\n",
              "    .dataframe thead th {\n",
              "        text-align: right;\n",
              "    }\n",
              "</style>\n",
              "<table border=\"1\" class=\"dataframe\">\n",
              "  <thead>\n",
              "    <tr style=\"text-align: right;\">\n",
              "      <th></th>\n",
              "      <th>Trial</th>\n",
              "      <th>Subject</th>\n",
              "      <th>Vision</th>\n",
              "      <th>Surface</th>\n",
              "      <th>Age</th>\n",
              "      <th>BMI</th>\n",
              "      <th>Best_T</th>\n",
              "      <th>COPmean_ap</th>\n",
              "      <th>COPmean_ml</th>\n",
              "      <th>COPsd_ap</th>\n",
              "      <th>...</th>\n",
              "      <th>COPfrem_ml</th>\n",
              "      <th>COPfremax_ap</th>\n",
              "      <th>COPfremax_ml</th>\n",
              "      <th>COPpow_ap</th>\n",
              "      <th>COPpow_ml</th>\n",
              "      <th>COPhurts_ap</th>\n",
              "      <th>COPhurts_ml</th>\n",
              "      <th>COPdfa_ap</th>\n",
              "      <th>COPdfa_ml</th>\n",
              "      <th>Clase</th>\n",
              "    </tr>\n",
              "  </thead>\n",
              "  <tbody>\n",
              "    <tr>\n",
              "      <th>564</th>\n",
              "      <td>BDS00565</td>\n",
              "      <td>48</td>\n",
              "      <td>Closed</td>\n",
              "      <td>Foam</td>\n",
              "      <td>34.333</td>\n",
              "      <td>24.262</td>\n",
              "      <td>22</td>\n",
              "      <td>6.785e-17</td>\n",
              "      <td>-5.842e-16</td>\n",
              "      <td>0.934</td>\n",
              "      <td>...</td>\n",
              "      <td>0.425</td>\n",
              "      <td>0.400</td>\n",
              "      <td>0.400</td>\n",
              "      <td>1.041</td>\n",
              "      <td>0.416</td>\n",
              "      <td>0.959</td>\n",
              "      <td>0.959</td>\n",
              "      <td>1.565</td>\n",
              "      <td>1.428</td>\n",
              "      <td>1</td>\n",
              "    </tr>\n",
              "    <tr>\n",
              "      <th>565</th>\n",
              "      <td>BDS00566</td>\n",
              "      <td>48</td>\n",
              "      <td>Closed</td>\n",
              "      <td>Foam</td>\n",
              "      <td>34.333</td>\n",
              "      <td>24.262</td>\n",
              "      <td>22</td>\n",
              "      <td>-4.567e-16</td>\n",
              "      <td>-1.601e-16</td>\n",
              "      <td>1.092</td>\n",
              "      <td>...</td>\n",
              "      <td>0.352</td>\n",
              "      <td>0.033</td>\n",
              "      <td>0.100</td>\n",
              "      <td>0.849</td>\n",
              "      <td>0.355</td>\n",
              "      <td>0.960</td>\n",
              "      <td>0.961</td>\n",
              "      <td>1.566</td>\n",
              "      <td>1.473</td>\n",
              "      <td>1</td>\n",
              "    </tr>\n",
              "    <tr>\n",
              "      <th>566</th>\n",
              "      <td>BDS00567</td>\n",
              "      <td>48</td>\n",
              "      <td>Closed</td>\n",
              "      <td>Foam</td>\n",
              "      <td>34.333</td>\n",
              "      <td>24.262</td>\n",
              "      <td>22</td>\n",
              "      <td>-3.566e-16</td>\n",
              "      <td>-7.235e-18</td>\n",
              "      <td>0.975</td>\n",
              "      <td>...</td>\n",
              "      <td>0.336</td>\n",
              "      <td>0.033</td>\n",
              "      <td>0.100</td>\n",
              "      <td>0.972</td>\n",
              "      <td>0.309</td>\n",
              "      <td>0.966</td>\n",
              "      <td>0.956</td>\n",
              "      <td>1.561</td>\n",
              "      <td>1.469</td>\n",
              "      <td>1</td>\n",
              "    </tr>\n",
              "    <tr>\n",
              "      <th>567</th>\n",
              "      <td>BDS00568</td>\n",
              "      <td>48</td>\n",
              "      <td>Closed</td>\n",
              "      <td>Firm</td>\n",
              "      <td>34.333</td>\n",
              "      <td>24.262</td>\n",
              "      <td>22</td>\n",
              "      <td>4.480e-16</td>\n",
              "      <td>5.657e-16</td>\n",
              "      <td>0.477</td>\n",
              "      <td>...</td>\n",
              "      <td>0.251</td>\n",
              "      <td>0.033</td>\n",
              "      <td>0.033</td>\n",
              "      <td>0.128</td>\n",
              "      <td>0.053</td>\n",
              "      <td>0.941</td>\n",
              "      <td>0.938</td>\n",
              "      <td>1.226</td>\n",
              "      <td>1.345</td>\n",
              "      <td>1</td>\n",
              "    </tr>\n",
              "    <tr>\n",
              "      <th>568</th>\n",
              "      <td>BDS00569</td>\n",
              "      <td>48</td>\n",
              "      <td>Closed</td>\n",
              "      <td>Firm</td>\n",
              "      <td>34.333</td>\n",
              "      <td>24.262</td>\n",
              "      <td>22</td>\n",
              "      <td>2.761e-16</td>\n",
              "      <td>-1.482e-16</td>\n",
              "      <td>0.358</td>\n",
              "      <td>...</td>\n",
              "      <td>0.392</td>\n",
              "      <td>0.033</td>\n",
              "      <td>0.033</td>\n",
              "      <td>0.085</td>\n",
              "      <td>0.019</td>\n",
              "      <td>0.946</td>\n",
              "      <td>0.938</td>\n",
              "      <td>1.434</td>\n",
              "      <td>1.319</td>\n",
              "      <td>1</td>\n",
              "    </tr>\n",
              "  </tbody>\n",
              "</table>\n",
              "<p>5 rows × 37 columns</p>\n",
              "</div>"
            ],
            "text/plain": [
              "        Trial  Subject  Vision Surface     Age     BMI  Best_T  COPmean_ap  \\\n",
              "564  BDS00565       48  Closed    Foam  34.333  24.262      22   6.785e-17   \n",
              "565  BDS00566       48  Closed    Foam  34.333  24.262      22  -4.567e-16   \n",
              "566  BDS00567       48  Closed    Foam  34.333  24.262      22  -3.566e-16   \n",
              "567  BDS00568       48  Closed    Firm  34.333  24.262      22   4.480e-16   \n",
              "568  BDS00569       48  Closed    Firm  34.333  24.262      22   2.761e-16   \n",
              "\n",
              "     COPmean_ml  COPsd_ap  ...  COPfrem_ml  COPfremax_ap  COPfremax_ml  \\\n",
              "564  -5.842e-16     0.934  ...       0.425         0.400         0.400   \n",
              "565  -1.601e-16     1.092  ...       0.352         0.033         0.100   \n",
              "566  -7.235e-18     0.975  ...       0.336         0.033         0.100   \n",
              "567   5.657e-16     0.477  ...       0.251         0.033         0.033   \n",
              "568  -1.482e-16     0.358  ...       0.392         0.033         0.033   \n",
              "\n",
              "     COPpow_ap  COPpow_ml  COPhurts_ap  COPhurts_ml  COPdfa_ap  COPdfa_ml  \\\n",
              "564      1.041      0.416        0.959        0.959      1.565      1.428   \n",
              "565      0.849      0.355        0.960        0.961      1.566      1.473   \n",
              "566      0.972      0.309        0.966        0.956      1.561      1.469   \n",
              "567      0.128      0.053        0.941        0.938      1.226      1.345   \n",
              "568      0.085      0.019        0.946        0.938      1.434      1.319   \n",
              "\n",
              "     Clase  \n",
              "564      1  \n",
              "565      1  \n",
              "566      1  \n",
              "567      1  \n",
              "568      1  \n",
              "\n",
              "[5 rows x 37 columns]"
            ]
          },
          "metadata": {
            "tags": []
          },
          "execution_count": 4
        }
      ]
    },
    {
      "cell_type": "markdown",
      "metadata": {
        "id": "39fYet0YSnLy",
        "colab_type": "text"
      },
      "source": [
        "## Revisamos cardinales de clases"
      ]
    },
    {
      "cell_type": "code",
      "metadata": {
        "id": "gVoqOo2aSnLy",
        "colab_type": "code",
        "outputId": "89f99656-f34b-4068-9bd7-7a6dbe541db7",
        "colab": {}
      },
      "source": [
        "data = BDSinfo.copy()\n",
        "data[['Clase', 'Trial']].groupby(['Clase']).count()"
      ],
      "execution_count": 0,
      "outputs": [
        {
          "output_type": "execute_result",
          "data": {
            "text/html": [
              "<div>\n",
              "<style scoped>\n",
              "    .dataframe tbody tr th:only-of-type {\n",
              "        vertical-align: middle;\n",
              "    }\n",
              "\n",
              "    .dataframe tbody tr th {\n",
              "        vertical-align: top;\n",
              "    }\n",
              "\n",
              "    .dataframe thead th {\n",
              "        text-align: right;\n",
              "    }\n",
              "</style>\n",
              "<table border=\"1\" class=\"dataframe\">\n",
              "  <thead>\n",
              "    <tr style=\"text-align: right;\">\n",
              "      <th></th>\n",
              "      <th>Trial</th>\n",
              "    </tr>\n",
              "    <tr>\n",
              "      <th>Clase</th>\n",
              "      <th></th>\n",
              "    </tr>\n",
              "  </thead>\n",
              "  <tbody>\n",
              "    <tr>\n",
              "      <th>0</th>\n",
              "      <td>1368</td>\n",
              "    </tr>\n",
              "    <tr>\n",
              "      <th>1</th>\n",
              "      <td>562</td>\n",
              "    </tr>\n",
              "  </tbody>\n",
              "</table>\n",
              "</div>"
            ],
            "text/plain": [
              "       Trial\n",
              "Clase       \n",
              "0       1368\n",
              "1        562"
            ]
          },
          "metadata": {
            "tags": []
          },
          "execution_count": 5
        }
      ]
    },
    {
      "cell_type": "markdown",
      "metadata": {
        "id": "K6bLVzKlSnL0",
        "colab_type": "text"
      },
      "source": [
        "## Separacion por ejercicio"
      ]
    },
    {
      "cell_type": "code",
      "metadata": {
        "id": "e4Br1STQSnL0",
        "colab_type": "code",
        "outputId": "791c5711-ceb4-48c5-9997-4355b6ee84dd",
        "colab": {}
      },
      "source": [
        "#Trabajo con una copia\n",
        "#Universo 1: Ojos abiertos en plataforma estable\n",
        "U1=data.loc[(data.Vision =='Open') & (data.Surface =='Firm')].copy()\n",
        "print(\"Universo 1: ojos abiertos y superficie estable. %s registros con %s variables.\"%(U1.shape[0], U1.shape[1]))\n",
        "print(U1[['Clase', 'Trial']].groupby(['Clase']).count())\n",
        "\n",
        "#Universo 2: Ojos cerrados en plataforma estable\n",
        "U2=data.loc[(data.Vision =='Closed') & (data.Surface =='Firm')].copy()\n",
        "print(\"\\n\\nUniverso 2: ojos cerrados y superficie estable. %s registros con %s variables.\"%(U2.shape[0], U2.shape[1]))\n",
        "print(U2[['Clase', 'Trial']].groupby(['Clase']).count())\n",
        "\n",
        "#Universo 3: Ojos abiertos en plataforma inestable \n",
        "U3=data.loc[(data.Vision =='Open') & (data.Surface =='Foam')].copy()\n",
        "print(\"\\n\\nUniverso 3: ojos abiertos y superficie inestable. %s registros con %s variables.\"%(U3.shape[0], U3.shape[1]))\n",
        "print(U3[['Clase', 'Trial']].groupby(['Clase']).count())\n",
        "\n",
        "#Universo 4: Ojos cerrados en plataforma inestable\n",
        "U4=data.loc[(data.Vision =='Closed') & (data.Surface =='Foam')].copy()\n",
        "print(\"\\n\\nUniverso 4: ojos cerrados y superficie inestable.%s registros con %s variables.\"%(U4.shape[0], U4.shape[1]))\n",
        "print(U4[['Clase', 'Trial']].groupby(['Clase']).count())"
      ],
      "execution_count": 0,
      "outputs": [
        {
          "output_type": "stream",
          "text": [
            "Universo 1: ojos abiertos y superficie estable. 489 registros con 37 variables.\n",
            "       Trial\n",
            "Clase       \n",
            "0        342\n",
            "1        147\n",
            "\n",
            "\n",
            "Universo 2: ojos cerrados y superficie estable. 487 registros con 37 variables.\n",
            "       Trial\n",
            "Clase       \n",
            "0        342\n",
            "1        145\n",
            "\n",
            "\n",
            "Universo 3: ojos abiertos y superficie inestable. 480 registros con 37 variables.\n",
            "       Trial\n",
            "Clase       \n",
            "0        342\n",
            "1        138\n",
            "\n",
            "\n",
            "Universo 4: ojos cerrados y superficie inestable.474 registros con 37 variables.\n",
            "       Trial\n",
            "Clase       \n",
            "0        342\n",
            "1        132\n"
          ],
          "name": "stdout"
        }
      ]
    },
    {
      "cell_type": "markdown",
      "metadata": {
        "id": "D1lT8R7TSnL2",
        "colab_type": "text"
      },
      "source": [
        "## Escojemos un universo para explorar"
      ]
    },
    {
      "cell_type": "code",
      "metadata": {
        "id": "7xXlZ__pSnL2",
        "colab_type": "code",
        "outputId": "7efc7c2b-5e61-43e9-e367-4dff2b8116c5",
        "colab": {}
      },
      "source": [
        "#Lo mas comun een estabilometria es ojos abiertos con plataforma firme\n",
        "universe=U1.copy()\n",
        "print(\"Informacion de %s sujetos (%s filas, %s columnas).\" %(len(universe), universe.shape[0], universe.shape[1]))\n",
        "universe.head(5)\n",
        "#extraemos las caractristicas desde el dataset\n",
        "features = list(universe)[4:-1]\n",
        "print(features)"
      ],
      "execution_count": 0,
      "outputs": [
        {
          "output_type": "stream",
          "text": [
            "Informacion de 489 sujetos (489 filas, 37 columnas).\n",
            "['Age', 'BMI', 'Best_T', 'COPmean_ap', 'COPmean_ml', 'COPsd_ap', 'COPsd_ml', 'COPrms_ap', 'COPrms_ml', 'COPrange_ap', 'COPrange_ml', 'COPpath_ap', 'COPpath_ml', 'COPvelm_ap', 'COPvelm_ml', 'COPvelm_r', 'COPvelnorm', 'COParea', 'COPaxesL', 'COPangle', 'COPfre_p50_ap', 'COPfre_p50_ml', 'COPfrem_ap', 'COPfrem_ml', 'COPfremax_ap', 'COPfremax_ml', 'COPpow_ap', 'COPpow_ml', 'COPhurts_ap', 'COPhurts_ml', 'COPdfa_ap', 'COPdfa_ml']\n"
          ],
          "name": "stdout"
        }
      ]
    },
    {
      "cell_type": "markdown",
      "metadata": {
        "id": "WGid88UQSnL4",
        "colab_type": "text"
      },
      "source": [
        "# Pre-procesando los datos"
      ]
    },
    {
      "cell_type": "code",
      "metadata": {
        "scrolled": true,
        "id": "KLfdaYRZSnL4",
        "colab_type": "code",
        "outputId": "7ea65910-6fb9-43a6-fe11-e957cfe6e573",
        "colab": {}
      },
      "source": [
        "# Inputs y outputs\n",
        "X = universe.loc[:, features].values\n",
        "Y = universe.loc[:,['Clase']].values\n",
        "X.shape"
      ],
      "execution_count": 0,
      "outputs": [
        {
          "output_type": "execute_result",
          "data": {
            "text/plain": [
              "(489, 32)"
            ]
          },
          "metadata": {
            "tags": []
          },
          "execution_count": 8
        }
      ]
    },
    {
      "cell_type": "code",
      "metadata": {
        "id": "052MPXl3SnL6",
        "colab_type": "code",
        "outputId": "fcbb1963-7b3d-4070-ca0d-bbdcf4ae4001",
        "colab": {}
      },
      "source": [
        "#Normalizando los datos\n",
        "from sklearn.preprocessing import StandardScaler\n",
        "X = StandardScaler().fit_transform(X)\n",
        "X.shape"
      ],
      "execution_count": 0,
      "outputs": [
        {
          "output_type": "execute_result",
          "data": {
            "text/plain": [
              "(489, 32)"
            ]
          },
          "metadata": {
            "tags": []
          },
          "execution_count": 9
        }
      ]
    },
    {
      "cell_type": "code",
      "metadata": {
        "id": "GKqxD3YnSnL7",
        "colab_type": "code",
        "colab": {}
      },
      "source": [
        "#Codificando las clases para que sean binarias, si es que no lo son.\n",
        "#from sklearn.preprocessing import OneHotEncoder\n",
        "#ohe = OneHotEncoder()\n",
        "#y = ohe.fit_transform(y).toarray()"
      ],
      "execution_count": 0,
      "outputs": []
    },
    {
      "cell_type": "code",
      "metadata": {
        "id": "U4HgnVSnSnL9",
        "colab_type": "code",
        "outputId": "85b081bd-ef48-4c52-bac2-313d9389d94a",
        "colab": {}
      },
      "source": [
        "#Dividiendo el dataset 90% vs 10%\n",
        "from sklearn.model_selection import train_test_split\n",
        "X_train,X_test,y_train,y_test = train_test_split(X,Y,test_size = 0.1)\n",
        "print(X_train.shape)\n",
        "print(X_test.shape)\n",
        "print(y_train.shape)\n",
        "print(y_test.shape)"
      ],
      "execution_count": 0,
      "outputs": [
        {
          "output_type": "stream",
          "text": [
            "(440, 32)\n",
            "(49, 32)\n",
            "(440, 1)\n",
            "(49, 1)\n"
          ],
          "name": "stdout"
        }
      ]
    },
    {
      "cell_type": "markdown",
      "metadata": {
        "id": "NgFZDrOqSnL-",
        "colab_type": "text"
      },
      "source": [
        "# MLP en Keras"
      ]
    },
    {
      "cell_type": "code",
      "metadata": {
        "id": "LY2GCKXUSnL_",
        "colab_type": "code",
        "outputId": "04fc539a-d659-4cf4-84ad-95081ad4e2ef",
        "colab": {}
      },
      "source": [
        "#!pip install tensorflow\n",
        "from keras.models import Sequential\n",
        "from keras.layers import Dense\n",
        "# Fija las semillas aleatorias para la reproducibilidad\n",
        "np.random.seed(7)"
      ],
      "execution_count": 0,
      "outputs": [
        {
          "output_type": "stream",
          "text": [
            "Using TensorFlow backend.\n"
          ],
          "name": "stderr"
        }
      ]
    },
    {
      "cell_type": "code",
      "metadata": {
        "id": "S86oZ0NhSnMA",
        "colab_type": "code",
        "colab": {}
      },
      "source": [
        "# Crea el modelo\n",
        "model2 = Sequential()\n",
        "#Agregamos una capa de entrada de 12 neuronas y una capa oculta de 10 neuronas\n",
        "model2.add(Dense(16, input_dim=32, activation='relu'))\n",
        "#print(model.weights)\n",
        "#Agregamos una segunda capa oculta de 8 neuronas\n",
        "model2.add(Dense(8, activation='relu'))\n",
        "model2.add(Dense(4, activation='relu'))\n",
        "#Agregamos una capa de salida de una neurona\n",
        "model2.add(Dense(1, activation='sigmoid'))\n",
        "\n"
      ],
      "execution_count": 0,
      "outputs": []
    },
    {
      "cell_type": "code",
      "metadata": {
        "id": "852xPKHmSnMC",
        "colab_type": "code",
        "outputId": "fe778b72-2185-45c2-8c48-31ffc74f5499",
        "colab": {}
      },
      "source": [
        "# Compila el modelo.\n",
        "# Especificamos la funcion de perdida, el metodo de optimizador y la metrica\n",
        "model2.compile(loss='binary_crossentropy', optimizer='adam', metrics=['accuracy'])\n",
        "model2.summary()"
      ],
      "execution_count": 0,
      "outputs": [
        {
          "output_type": "stream",
          "text": [
            "Model: \"sequential_4\"\n",
            "_________________________________________________________________\n",
            "Layer (type)                 Output Shape              Param #   \n",
            "=================================================================\n",
            "dense_12 (Dense)             (None, 16)                528       \n",
            "_________________________________________________________________\n",
            "dense_13 (Dense)             (None, 8)                 136       \n",
            "_________________________________________________________________\n",
            "dense_14 (Dense)             (None, 4)                 36        \n",
            "_________________________________________________________________\n",
            "dense_15 (Dense)             (None, 1)                 5         \n",
            "=================================================================\n",
            "Total params: 705\n",
            "Trainable params: 705\n",
            "Non-trainable params: 0\n",
            "_________________________________________________________________\n"
          ],
          "name": "stdout"
        }
      ]
    },
    {
      "cell_type": "code",
      "metadata": {
        "id": "HnPbpTwzSnMD",
        "colab_type": "code",
        "outputId": "a08bee2b-3524-412b-a2f3-a51748d34c2e",
        "colab": {}
      },
      "source": [
        "# Entrenamos el modelo\n",
        "# Iteraciones=100. Cada cuanto se actualizan los pesos = 10\n",
        "history = model2.fit(X_train, y_train, epochs=150, batch_size=20)"
      ],
      "execution_count": 0,
      "outputs": [
        {
          "output_type": "stream",
          "text": [
            "Epoch 1/150\n",
            "440/440 [==============================] - 0s 450us/step - loss: 0.7156 - accuracy: 0.6682\n",
            "Epoch 2/150\n",
            "440/440 [==============================] - 0s 88us/step - loss: 0.6453 - accuracy: 0.6818\n",
            "Epoch 3/150\n",
            "440/440 [==============================] - 0s 85us/step - loss: 0.6084 - accuracy: 0.7136\n",
            "Epoch 4/150\n",
            "440/440 [==============================] - 0s 84us/step - loss: 0.5771 - accuracy: 0.7386\n",
            "Epoch 5/150\n",
            "440/440 [==============================] - 0s 87us/step - loss: 0.5521 - accuracy: 0.7591\n",
            "Epoch 6/150\n",
            "440/440 [==============================] - 0s 84us/step - loss: 0.5331 - accuracy: 0.7614\n",
            "Epoch 7/150\n",
            "440/440 [==============================] - 0s 121us/step - loss: 0.5146 - accuracy: 0.7568\n",
            "Epoch 8/150\n",
            "440/440 [==============================] - 0s 80us/step - loss: 0.4996 - accuracy: 0.7727\n",
            "Epoch 9/150\n",
            "440/440 [==============================] - 0s 78us/step - loss: 0.4857 - accuracy: 0.7750\n",
            "Epoch 10/150\n",
            "440/440 [==============================] - 0s 89us/step - loss: 0.4735 - accuracy: 0.7727\n",
            "Epoch 11/150\n",
            "440/440 [==============================] - 0s 80us/step - loss: 0.4638 - accuracy: 0.7818\n",
            "Epoch 12/150\n",
            "440/440 [==============================] - 0s 90us/step - loss: 0.4517 - accuracy: 0.7932\n",
            "Epoch 13/150\n",
            "440/440 [==============================] - 0s 108us/step - loss: 0.4438 - accuracy: 0.8023\n",
            "Epoch 14/150\n",
            "440/440 [==============================] - 0s 112us/step - loss: 0.4351 - accuracy: 0.8068\n",
            "Epoch 15/150\n",
            "440/440 [==============================] - 0s 141us/step - loss: 0.4284 - accuracy: 0.8068\n",
            "Epoch 16/150\n",
            "440/440 [==============================] - 0s 112us/step - loss: 0.4223 - accuracy: 0.8000\n",
            "Epoch 17/150\n",
            "440/440 [==============================] - 0s 87us/step - loss: 0.4134 - accuracy: 0.8000\n",
            "Epoch 18/150\n",
            "440/440 [==============================] - 0s 56us/step - loss: 0.4078 - accuracy: 0.8091\n",
            "Epoch 19/150\n",
            "440/440 [==============================] - 0s 90us/step - loss: 0.4014 - accuracy: 0.8159\n",
            "Epoch 20/150\n",
            "440/440 [==============================] - 0s 84us/step - loss: 0.3962 - accuracy: 0.8136\n",
            "Epoch 21/150\n",
            "440/440 [==============================] - 0s 96us/step - loss: 0.3911 - accuracy: 0.8273\n",
            "Epoch 22/150\n",
            "440/440 [==============================] - 0s 94us/step - loss: 0.3863 - accuracy: 0.8273\n",
            "Epoch 23/150\n",
            "440/440 [==============================] - 0s 78us/step - loss: 0.3803 - accuracy: 0.8318\n",
            "Epoch 24/150\n",
            "440/440 [==============================] - 0s 68us/step - loss: 0.3744 - accuracy: 0.8364\n",
            "Epoch 25/150\n",
            "440/440 [==============================] - 0s 101us/step - loss: 0.3697 - accuracy: 0.8364\n",
            "Epoch 26/150\n",
            "440/440 [==============================] - 0s 114us/step - loss: 0.3674 - accuracy: 0.8409\n",
            "Epoch 27/150\n",
            "440/440 [==============================] - 0s 143us/step - loss: 0.3604 - accuracy: 0.8341\n",
            "Epoch 28/150\n",
            "440/440 [==============================] - 0s 152us/step - loss: 0.3566 - accuracy: 0.8364\n",
            "Epoch 29/150\n",
            "440/440 [==============================] - 0s 100us/step - loss: 0.3512 - accuracy: 0.8409\n",
            "Epoch 30/150\n",
            "440/440 [==============================] - 0s 98us/step - loss: 0.3472 - accuracy: 0.8477\n",
            "Epoch 31/150\n",
            "440/440 [==============================] - 0s 73us/step - loss: 0.3452 - accuracy: 0.8432\n",
            "Epoch 32/150\n",
            "440/440 [==============================] - 0s 101us/step - loss: 0.3399 - accuracy: 0.8455\n",
            "Epoch 33/150\n",
            "440/440 [==============================] - 0s 89us/step - loss: 0.3336 - accuracy: 0.8568\n",
            "Epoch 34/150\n",
            "440/440 [==============================] - 0s 105us/step - loss: 0.3292 - accuracy: 0.8636\n",
            "Epoch 35/150\n",
            "440/440 [==============================] - 0s 111us/step - loss: 0.3262 - accuracy: 0.8659\n",
            "Epoch 36/150\n",
            "440/440 [==============================] - 0s 87us/step - loss: 0.3209 - accuracy: 0.8636\n",
            "Epoch 37/150\n",
            "440/440 [==============================] - 0s 79us/step - loss: 0.3184 - accuracy: 0.8591\n",
            "Epoch 38/150\n",
            "440/440 [==============================] - 0s 79us/step - loss: 0.3164 - accuracy: 0.8750\n",
            "Epoch 39/150\n",
            "440/440 [==============================] - 0s 84us/step - loss: 0.3132 - accuracy: 0.8591\n",
            "Epoch 40/150\n",
            "440/440 [==============================] - 0s 80us/step - loss: 0.3087 - accuracy: 0.8659\n",
            "Epoch 41/150\n",
            "440/440 [==============================] - 0s 89us/step - loss: 0.3053 - accuracy: 0.8705\n",
            "Epoch 42/150\n",
            "440/440 [==============================] - 0s 82us/step - loss: 0.3023 - accuracy: 0.8636\n",
            "Epoch 43/150\n",
            "440/440 [==============================] - 0s 66us/step - loss: 0.2994 - accuracy: 0.8705\n",
            "Epoch 44/150\n",
            "440/440 [==============================] - 0s 83us/step - loss: 0.2941 - accuracy: 0.8705\n",
            "Epoch 45/150\n",
            "440/440 [==============================] - 0s 88us/step - loss: 0.2908 - accuracy: 0.8727\n",
            "Epoch 46/150\n",
            "440/440 [==============================] - 0s 95us/step - loss: 0.2883 - accuracy: 0.8750\n",
            "Epoch 47/150\n",
            "440/440 [==============================] - 0s 91us/step - loss: 0.2855 - accuracy: 0.8750\n",
            "Epoch 48/150\n",
            "440/440 [==============================] - 0s 79us/step - loss: 0.2839 - accuracy: 0.8864\n",
            "Epoch 49/150\n",
            "440/440 [==============================] - 0s 91us/step - loss: 0.2801 - accuracy: 0.8841\n",
            "Epoch 50/150\n",
            "440/440 [==============================] - 0s 76us/step - loss: 0.2771 - accuracy: 0.8841\n",
            "Epoch 51/150\n",
            "440/440 [==============================] - 0s 120us/step - loss: 0.2726 - accuracy: 0.8841\n",
            "Epoch 52/150\n",
            "440/440 [==============================] - 0s 81us/step - loss: 0.2674 - accuracy: 0.8955\n",
            "Epoch 53/150\n",
            "440/440 [==============================] - 0s 89us/step - loss: 0.2682 - accuracy: 0.8932\n",
            "Epoch 54/150\n",
            "440/440 [==============================] - 0s 88us/step - loss: 0.2645 - accuracy: 0.8864\n",
            "Epoch 55/150\n",
            "440/440 [==============================] - 0s 88us/step - loss: 0.2596 - accuracy: 0.8977\n",
            "Epoch 56/150\n",
            "440/440 [==============================] - 0s 75us/step - loss: 0.2558 - accuracy: 0.8977\n",
            "Epoch 57/150\n",
            "440/440 [==============================] - 0s 128us/step - loss: 0.2517 - accuracy: 0.8955\n",
            "Epoch 58/150\n",
            "440/440 [==============================] - 0s 149us/step - loss: 0.2508 - accuracy: 0.8932\n",
            "Epoch 59/150\n",
            "440/440 [==============================] - 0s 90us/step - loss: 0.2459 - accuracy: 0.9091\n",
            "Epoch 60/150\n",
            "440/440 [==============================] - 0s 82us/step - loss: 0.2437 - accuracy: 0.9045\n",
            "Epoch 61/150\n",
            "440/440 [==============================] - 0s 84us/step - loss: 0.2405 - accuracy: 0.9068\n",
            "Epoch 62/150\n",
            "440/440 [==============================] - 0s 71us/step - loss: 0.2378 - accuracy: 0.9045\n",
            "Epoch 63/150\n",
            "440/440 [==============================] - 0s 83us/step - loss: 0.2336 - accuracy: 0.9159\n",
            "Epoch 64/150\n",
            "440/440 [==============================] - 0s 84us/step - loss: 0.2291 - accuracy: 0.9159\n",
            "Epoch 65/150\n",
            "440/440 [==============================] - 0s 77us/step - loss: 0.2273 - accuracy: 0.9159\n",
            "Epoch 66/150\n",
            "440/440 [==============================] - 0s 86us/step - loss: 0.2260 - accuracy: 0.9045\n",
            "Epoch 67/150\n",
            "440/440 [==============================] - 0s 70us/step - loss: 0.2201 - accuracy: 0.9182\n",
            "Epoch 68/150\n",
            "440/440 [==============================] - 0s 95us/step - loss: 0.2184 - accuracy: 0.9136\n",
            "Epoch 69/150\n",
            "440/440 [==============================] - 0s 78us/step - loss: 0.2159 - accuracy: 0.9273\n",
            "Epoch 70/150\n",
            "440/440 [==============================] - 0s 86us/step - loss: 0.2126 - accuracy: 0.9091\n",
            "Epoch 71/150\n",
            "440/440 [==============================] - 0s 81us/step - loss: 0.2103 - accuracy: 0.9250\n",
            "Epoch 72/150\n",
            "440/440 [==============================] - 0s 95us/step - loss: 0.2070 - accuracy: 0.9182\n",
            "Epoch 73/150\n",
            "440/440 [==============================] - 0s 83us/step - loss: 0.2044 - accuracy: 0.9250\n",
            "Epoch 74/150\n",
            "440/440 [==============================] - 0s 91us/step - loss: 0.2005 - accuracy: 0.9341\n",
            "Epoch 75/150\n",
            "440/440 [==============================] - 0s 72us/step - loss: 0.1985 - accuracy: 0.9250\n",
            "Epoch 76/150\n",
            "440/440 [==============================] - 0s 86us/step - loss: 0.1948 - accuracy: 0.9364\n",
            "Epoch 77/150\n",
            "440/440 [==============================] - 0s 82us/step - loss: 0.1918 - accuracy: 0.9386\n",
            "Epoch 78/150\n",
            "440/440 [==============================] - 0s 84us/step - loss: 0.1902 - accuracy: 0.9273\n",
            "Epoch 79/150\n",
            "440/440 [==============================] - 0s 73us/step - loss: 0.1864 - accuracy: 0.9341\n",
            "Epoch 80/150\n",
            "440/440 [==============================] - 0s 122us/step - loss: 0.1839 - accuracy: 0.9409\n",
            "Epoch 81/150\n",
            "440/440 [==============================] - 0s 142us/step - loss: 0.1818 - accuracy: 0.9432\n",
            "Epoch 82/150\n",
            "440/440 [==============================] - 0s 111us/step - loss: 0.1796 - accuracy: 0.9409\n",
            "Epoch 83/150\n",
            "440/440 [==============================] - 0s 72us/step - loss: 0.1775 - accuracy: 0.9500\n",
            "Epoch 84/150\n",
            "440/440 [==============================] - 0s 67us/step - loss: 0.1743 - accuracy: 0.9409\n",
            "Epoch 85/150\n",
            "440/440 [==============================] - 0s 63us/step - loss: 0.1715 - accuracy: 0.9477\n",
            "Epoch 86/150\n",
            "440/440 [==============================] - 0s 76us/step - loss: 0.1690 - accuracy: 0.9523\n",
            "Epoch 87/150\n",
            "440/440 [==============================] - 0s 63us/step - loss: 0.1651 - accuracy: 0.9614\n",
            "Epoch 88/150\n",
            "440/440 [==============================] - 0s 76us/step - loss: 0.1630 - accuracy: 0.9500\n",
            "Epoch 89/150\n",
            "440/440 [==============================] - 0s 103us/step - loss: 0.1635 - accuracy: 0.9500\n",
            "Epoch 90/150\n",
            "440/440 [==============================] - 0s 107us/step - loss: 0.1596 - accuracy: 0.9591\n",
            "Epoch 91/150\n",
            "440/440 [==============================] - 0s 88us/step - loss: 0.1559 - accuracy: 0.9659\n",
            "Epoch 92/150\n",
            "440/440 [==============================] - 0s 68us/step - loss: 0.1547 - accuracy: 0.9591\n",
            "Epoch 93/150\n",
            "440/440 [==============================] - 0s 73us/step - loss: 0.1492 - accuracy: 0.9659\n",
            "Epoch 94/150\n",
            "440/440 [==============================] - 0s 67us/step - loss: 0.1479 - accuracy: 0.9659\n",
            "Epoch 95/150\n",
            "440/440 [==============================] - 0s 71us/step - loss: 0.1448 - accuracy: 0.9659\n",
            "Epoch 96/150\n",
            "440/440 [==============================] - 0s 70us/step - loss: 0.1419 - accuracy: 0.9636\n",
            "Epoch 97/150\n",
            "440/440 [==============================] - 0s 65us/step - loss: 0.1402 - accuracy: 0.9682\n",
            "Epoch 98/150\n",
            "440/440 [==============================] - 0s 70us/step - loss: 0.1377 - accuracy: 0.9659\n",
            "Epoch 99/150\n",
            "440/440 [==============================] - 0s 69us/step - loss: 0.1349 - accuracy: 0.9636\n",
            "Epoch 100/150\n",
            "440/440 [==============================] - 0s 78us/step - loss: 0.1343 - accuracy: 0.9659\n",
            "Epoch 101/150\n",
            "440/440 [==============================] - 0s 75us/step - loss: 0.1321 - accuracy: 0.9636\n",
            "Epoch 102/150\n",
            "440/440 [==============================] - 0s 73us/step - loss: 0.1301 - accuracy: 0.9682\n",
            "Epoch 103/150\n",
            "440/440 [==============================] - 0s 69us/step - loss: 0.1259 - accuracy: 0.9682\n",
            "Epoch 104/150\n",
            "440/440 [==============================] - 0s 67us/step - loss: 0.1228 - accuracy: 0.9682\n",
            "Epoch 105/150\n",
            "440/440 [==============================] - 0s 73us/step - loss: 0.1217 - accuracy: 0.9682\n",
            "Epoch 106/150\n",
            "440/440 [==============================] - 0s 65us/step - loss: 0.1193 - accuracy: 0.9682\n",
            "Epoch 107/150\n",
            "440/440 [==============================] - 0s 68us/step - loss: 0.1179 - accuracy: 0.9682\n",
            "Epoch 108/150\n",
            "440/440 [==============================] - 0s 67us/step - loss: 0.1160 - accuracy: 0.9705\n",
            "Epoch 109/150\n",
            "440/440 [==============================] - 0s 71us/step - loss: 0.1151 - accuracy: 0.9705\n",
            "Epoch 110/150\n",
            "440/440 [==============================] - 0s 67us/step - loss: 0.1124 - accuracy: 0.9727\n",
            "Epoch 111/150\n",
            "440/440 [==============================] - 0s 76us/step - loss: 0.1090 - accuracy: 0.9705\n",
            "Epoch 112/150\n",
            "440/440 [==============================] - 0s 65us/step - loss: 0.1071 - accuracy: 0.9727\n",
            "Epoch 113/150\n",
            "440/440 [==============================] - 0s 71us/step - loss: 0.1068 - accuracy: 0.9682\n",
            "Epoch 114/150\n",
            "440/440 [==============================] - 0s 71us/step - loss: 0.1051 - accuracy: 0.9750\n",
            "Epoch 115/150\n",
            "440/440 [==============================] - 0s 75us/step - loss: 0.1041 - accuracy: 0.9705\n",
            "Epoch 116/150\n",
            "440/440 [==============================] - 0s 81us/step - loss: 0.1004 - accuracy: 0.9773\n",
            "Epoch 117/150\n",
            "440/440 [==============================] - 0s 79us/step - loss: 0.0981 - accuracy: 0.9750\n",
            "Epoch 118/150\n",
            "440/440 [==============================] - 0s 65us/step - loss: 0.0957 - accuracy: 0.9773\n",
            "Epoch 119/150\n",
            "440/440 [==============================] - 0s 71us/step - loss: 0.0940 - accuracy: 0.9750\n",
            "Epoch 120/150\n",
            "440/440 [==============================] - 0s 71us/step - loss: 0.0924 - accuracy: 0.9773\n",
            "Epoch 121/150\n",
            "440/440 [==============================] - 0s 71us/step - loss: 0.0919 - accuracy: 0.9727\n",
            "Epoch 122/150\n",
            "440/440 [==============================] - 0s 69us/step - loss: 0.0906 - accuracy: 0.9750\n",
            "Epoch 123/150\n",
            "440/440 [==============================] - 0s 79us/step - loss: 0.0897 - accuracy: 0.9750\n",
            "Epoch 124/150\n",
            "440/440 [==============================] - 0s 64us/step - loss: 0.0882 - accuracy: 0.9773\n",
            "Epoch 125/150\n",
            "440/440 [==============================] - 0s 65us/step - loss: 0.0847 - accuracy: 0.9773\n",
            "Epoch 126/150\n",
            "440/440 [==============================] - 0s 63us/step - loss: 0.0828 - accuracy: 0.9773\n",
            "Epoch 127/150\n",
            "440/440 [==============================] - 0s 78us/step - loss: 0.0818 - accuracy: 0.9773\n",
            "Epoch 128/150\n",
            "440/440 [==============================] - 0s 75us/step - loss: 0.0795 - accuracy: 0.9795\n",
            "Epoch 129/150\n",
            "440/440 [==============================] - 0s 69us/step - loss: 0.0796 - accuracy: 0.9795\n",
            "Epoch 130/150\n",
            "440/440 [==============================] - 0s 91us/step - loss: 0.0774 - accuracy: 0.9795\n",
            "Epoch 131/150\n",
            "440/440 [==============================] - 0s 103us/step - loss: 0.0766 - accuracy: 0.9795\n",
            "Epoch 132/150\n",
            "440/440 [==============================] - 0s 69us/step - loss: 0.0767 - accuracy: 0.9795\n",
            "Epoch 133/150\n",
            "440/440 [==============================] - 0s 68us/step - loss: 0.0747 - accuracy: 0.9818\n",
            "Epoch 134/150\n",
            "440/440 [==============================] - 0s 62us/step - loss: 0.0742 - accuracy: 0.9818\n",
            "Epoch 135/150\n",
            "440/440 [==============================] - 0s 73us/step - loss: 0.0717 - accuracy: 0.9795\n",
            "Epoch 136/150\n",
            "440/440 [==============================] - 0s 66us/step - loss: 0.0708 - accuracy: 0.9795\n",
            "Epoch 137/150\n",
            "440/440 [==============================] - 0s 79us/step - loss: 0.0690 - accuracy: 0.9818\n",
            "Epoch 138/150\n",
            "440/440 [==============================] - 0s 65us/step - loss: 0.0688 - accuracy: 0.9818\n",
            "Epoch 139/150\n",
            "440/440 [==============================] - 0s 72us/step - loss: 0.0690 - accuracy: 0.9818\n",
            "Epoch 140/150\n",
            "440/440 [==============================] - 0s 73us/step - loss: 0.0665 - accuracy: 0.9841\n",
            "Epoch 141/150\n",
            "440/440 [==============================] - 0s 68us/step - loss: 0.0654 - accuracy: 0.9841\n",
            "Epoch 142/150\n",
            "440/440 [==============================] - 0s 86us/step - loss: 0.0636 - accuracy: 0.9841\n",
            "Epoch 143/150\n",
            "440/440 [==============================] - 0s 67us/step - loss: 0.0634 - accuracy: 0.9818\n",
            "Epoch 144/150\n",
            "440/440 [==============================] - 0s 61us/step - loss: 0.0613 - accuracy: 0.9864\n",
            "Epoch 145/150\n",
            "440/440 [==============================] - 0s 74us/step - loss: 0.0606 - accuracy: 0.9841\n",
            "Epoch 146/150\n",
            "440/440 [==============================] - 0s 70us/step - loss: 0.0604 - accuracy: 0.9864\n",
            "Epoch 147/150\n",
            "440/440 [==============================] - 0s 73us/step - loss: 0.0589 - accuracy: 0.9886\n",
            "Epoch 148/150\n",
            "440/440 [==============================] - 0s 65us/step - loss: 0.0611 - accuracy: 0.9841\n",
            "Epoch 149/150\n",
            "440/440 [==============================] - 0s 66us/step - loss: 0.0566 - accuracy: 0.9886\n",
            "Epoch 150/150\n",
            "440/440 [==============================] - 0s 72us/step - loss: 0.0565 - accuracy: 0.9864\n"
          ],
          "name": "stdout"
        }
      ]
    },
    {
      "cell_type": "code",
      "metadata": {
        "id": "Xi6W05bjSnMF",
        "colab_type": "code",
        "outputId": "eef15f52-d371-4139-d8d9-c091a1752b9d",
        "colab": {}
      },
      "source": [
        "# Evalua el modelo contra si mismo\n",
        "scores = model2.evaluate(X_train, y_train)\n",
        "print(\"\\n%s: %.2f%%\" % (model2.metrics_names[1], scores[1]*100))"
      ],
      "execution_count": 0,
      "outputs": [
        {
          "output_type": "stream",
          "text": [
            "440/440 [==============================] - 0s 169us/step\n",
            "\n",
            "accuracy: 98.86%\n"
          ],
          "name": "stdout"
        }
      ]
    },
    {
      "cell_type": "code",
      "metadata": {
        "id": "OKmpFpWySnMH",
        "colab_type": "code",
        "colab": {}
      },
      "source": [
        "# Calcula y redondeamos las predicciones\n",
        "y_pred_round = np.round(model2.predict(X_test))"
      ],
      "execution_count": 0,
      "outputs": []
    },
    {
      "cell_type": "code",
      "metadata": {
        "id": "FLcbmaJnSnMI",
        "colab_type": "code",
        "outputId": "6188daa6-7828-40ad-a781-c87069741cc9",
        "colab": {}
      },
      "source": [
        "from sklearn.metrics import accuracy_score\n",
        "a = accuracy_score(y_pred_round,y_test)\n",
        "print('Precisión:', a*100)"
      ],
      "execution_count": 0,
      "outputs": [
        {
          "output_type": "stream",
          "text": [
            "Precisión: 83.6734693877551\n"
          ],
          "name": "stdout"
        }
      ]
    },
    {
      "cell_type": "code",
      "metadata": {
        "id": "XFL5llKmSnML",
        "colab_type": "code",
        "outputId": "39f49b40-6764-4f4c-88b2-6523918f19b6",
        "colab": {}
      },
      "source": [
        "import matplotlib.pyplot as plt\n",
        "plt.plot(history.history['accuracy'])\n",
        "#plt.plot(history.history['val_accuracy'])\n",
        "plt.title('Precisión del modelo')\n",
        "plt.ylabel('Precisión')\n",
        "plt.xlabel('Epoch')\n",
        "#plt.legend(['Train', 'Test'], loc='upper left')\n",
        "plt.show()"
      ],
      "execution_count": 0,
      "outputs": [
        {
          "output_type": "display_data",
          "data": {
            "image/png": "[encoded data removed]",
            "text/plain": [
              "<Figure size 432x288 with 1 Axes>"
            ]
          },
          "metadata": {
            "tags": [],
            "needs_background": "light"
          }
        }
      ]
    },
    {
      "cell_type": "code",
      "metadata": {
        "id": "OnugFdPwSnMN",
        "colab_type": "code",
        "outputId": "75320d13-8fce-4c68-ebfd-e1e909d36320",
        "colab": {}
      },
      "source": [
        "plt.plot(history.history['loss'])\n",
        "#plt.plot(history.history['val_loss']) \n",
        "plt.title('Pérdida del modelo') \n",
        "plt.ylabel('Pérdida') \n",
        "plt.xlabel('Epoch') \n",
        "#plt.legend(['Train', 'Test'], loc='upper left') \n",
        "plt.show()"
      ],
      "execution_count": 0,
      "outputs": [
        {
          "output_type": "display_data",
          "data": {
            "image/png": "[encoded data removed]",
            "text/plain": [
              "<Figure size 432x288 with 1 Axes>"
            ]
          },
          "metadata": {
            "tags": [],
            "needs_background": "light"
          }
        }
      ]
    },
    {
      "cell_type": "code",
      "metadata": {
        "id": "x_NSrJt2SnMQ",
        "colab_type": "code",
        "colab": {}
      },
      "source": [
        ""
      ],
      "execution_count": 0,
      "outputs": []
    }
  ]
}